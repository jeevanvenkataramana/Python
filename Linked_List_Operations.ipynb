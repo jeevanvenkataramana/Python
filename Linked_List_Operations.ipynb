{
 "cells": [
  {
   "cell_type": "markdown",
   "metadata": {},
   "source": [
    "## Default Class"
   ]
  },
  {
   "cell_type": "code",
   "execution_count": 1,
   "metadata": {},
   "outputs": [],
   "source": [
    "class ListNode:\n",
    "     def __init__(self, x):\n",
    "            self.val = x\n",
    "            self.next = None"
   ]
  },
  {
   "cell_type": "markdown",
   "metadata": {},
   "source": [
    "### Reverse a singly linked list"
   ]
  },
  {
   "cell_type": "code",
   "execution_count": 4,
   "metadata": {},
   "outputs": [],
   "source": [
    "def reverseList(self, head: ListNode) -> ListNode:\n",
    "    prev=None\n",
    "    current=None\n",
    "    nextp=None\n",
    "        \n",
    "    current=head\n",
    "    while(current):\n",
    "        nextp=current.next\n",
    "        current.next=prev\n",
    "        prev=current\n",
    "        current=nextp\n",
    "    return prev"
   ]
  },
  {
   "cell_type": "markdown",
   "metadata": {},
   "source": [
    "### Merge Sorted Linked List"
   ]
  },
  {
   "cell_type": "code",
   "execution_count": 5,
   "metadata": {},
   "outputs": [],
   "source": [
    "def merge_sorted(l1,l2):\n",
    "    head=tail=ListNode()\n",
    "    \n",
    "    while l1 and l2:\n",
    "        if(l1.val < l2.val):\n",
    "            tail.next,l1=l1,l1.next\n",
    "        else:\n",
    "            tail.next,l2=l2,l2.next\n",
    "    \n",
    "    tail.next = l1 or l2\n",
    "    return head.next"
   ]
  },
  {
   "cell_type": "markdown",
   "metadata": {},
   "source": [
    "### Has Cycle"
   ]
  },
  {
   "cell_type": "code",
   "execution_count": 6,
   "metadata": {},
   "outputs": [],
   "source": [
    "def detectCycle(self, head):\n",
    "    slow=head\n",
    "    fast=head\n",
    "    \n",
    "    while fast and fast.next and fast.next.next:\n",
    "        slow,fast=slow.next,fast.next.next\n",
    "        if(slow==fast):\n",
    "            slow=head\n",
    "            while slow is not fast:\n",
    "                slow,fast=slow.next,fast.next\n",
    "            return slow\n",
    "    return None"
   ]
  },
  {
   "cell_type": "markdown",
   "metadata": {},
   "source": [
    "### Intersection of two list"
   ]
  },
  {
   "cell_type": "code",
   "execution_count": 7,
   "metadata": {},
   "outputs": [],
   "source": [
    "def getIntersectionNode(self, headA, headB):\n",
    "    def length(L):\n",
    "        count=0\n",
    "        while L:\n",
    "            L=L.next\n",
    "            count=count+1\n",
    "        return count\n",
    "        \n",
    "    alen,blen=length(headA),length(headB)\n",
    "    if alen>blen:\n",
    "        headB,headA=headA,headB\n",
    "    for _ in range(abs(alen-blen)):\n",
    "        headB=headB.next\n",
    "            \n",
    "    while headA and headB and headA is not headB:\n",
    "        headA,headB=headA.next,headB.next\n",
    "        \n",
    "    return headA\n",
    "\n",
    "# calculate len of two lists, make 2nd list as the list of higher length. next forward 2nd list till the abs difference between 2 lists.\n",
    "# after that whenever list is not list2 next forward"
   ]
  },
  {
   "cell_type": "markdown",
   "metadata": {},
   "source": [
    "### Remove Duplicates"
   ]
  },
  {
   "cell_type": "code",
   "execution_count": 5,
   "metadata": {},
   "outputs": [],
   "source": [
    "def deleteDuplicates(self, head):\n",
    "    temp=head\n",
    "    while head and head.next:\n",
    "        if head.val == head.next.val :\n",
    "            head.next=head.next.next\n",
    "            continue\n",
    "        head=head.next\n",
    "    return temp    "
   ]
  },
  {
   "cell_type": "markdown",
   "metadata": {},
   "source": [
    "### LinkedList Palindrome"
   ]
  },
  {
   "cell_type": "code",
   "execution_count": 8,
   "metadata": {},
   "outputs": [],
   "source": [
    "def isPalindrome(head) -> bool:\n",
    "    def reverse_link(head):\n",
    "        prev=None\n",
    "        current=head\n",
    "        nextp=None\n",
    "        while(current):\n",
    "            nextp=current.next\n",
    "            current.next=prev\n",
    "            prev=current\n",
    "            current=nextp\n",
    "        return prev\n",
    "    \n",
    "    temp=list()\n",
    "    slow=head\n",
    "    fast=head\n",
    "    while fast and fast.next:\n",
    "        slow,fast=slow.next,fast.next.next\n",
    "        \n",
    "    slow,fast=head,reverse_link(slow)\n",
    "        \n",
    "    while slow and fast:\n",
    "        if slow.val!=fast.val:\n",
    "            return False\n",
    "        slow,fast=slow.next,fast.next\n",
    "    return True\n",
    "    \n",
    "    # move slow pointer and fast pointer until fast.next is null\n",
    "    # two lists one to head and one to reverse from half point"
   ]
  },
  {
   "cell_type": "code",
   "execution_count": null,
   "metadata": {},
   "outputs": [],
   "source": []
  }
 ],
 "metadata": {
  "kernelspec": {
   "display_name": "Python 3",
   "language": "python",
   "name": "python3"
  },
  "language_info": {
   "codemirror_mode": {
    "name": "ipython",
    "version": 3
   },
   "file_extension": ".py",
   "mimetype": "text/x-python",
   "name": "python",
   "nbconvert_exporter": "python",
   "pygments_lexer": "ipython3",
   "version": "3.7.1"
  }
 },
 "nbformat": 4,
 "nbformat_minor": 2
}
