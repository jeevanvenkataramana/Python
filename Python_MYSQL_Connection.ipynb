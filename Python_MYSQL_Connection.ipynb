{
 "cells": [
  {
   "cell_type": "markdown",
   "metadata": {},
   "source": [
    "#### Import Library"
   ]
  },
  {
   "cell_type": "code",
   "execution_count": 129,
   "metadata": {},
   "outputs": [],
   "source": [
    "import mysql.connector "
   ]
  },
  {
   "cell_type": "markdown",
   "metadata": {},
   "source": [
    "#### Connecting to database -- mysql.connector.connect(user='username', password='password', host='ipaddress', database='databasename')"
   ]
  },
  {
   "cell_type": "code",
   "execution_count": 130,
   "metadata": {},
   "outputs": [],
   "source": [
    "import mysql.connector\n",
    "\n",
    "cnx = mysql.connector.connect(user='root', password='Jeev@123',\n",
    "                              host='localhost',\n",
    "                              database='world')"
   ]
  },
  {
   "cell_type": "markdown",
   "metadata": {},
   "source": [
    "#### Execute query object -- connector_obj.cursor()"
   ]
  },
  {
   "cell_type": "code",
   "execution_count": 131,
   "metadata": {},
   "outputs": [],
   "source": [
    "cursor = cnx.cursor(buffered=True)"
   ]
  },
  {
   "cell_type": "markdown",
   "metadata": {},
   "source": [
    "#### Query"
   ]
  },
  {
   "cell_type": "code",
   "execution_count": 132,
   "metadata": {},
   "outputs": [],
   "source": [
    "DB_NAME = 'employees'\n",
    "\n",
    "TABLES = {}                                      # creating a dictionary which can hold queries\n",
    "TABLES['employees'] = (\n",
    "    \"CREATE TABLE `employees` (`emp_no` int(11) NOT NULL AUTO_INCREMENT,\"\n",
    "    \"  `birth_date` date NOT NULL,\"\n",
    "    \"  `first_name` varchar(14) NOT NULL,\"\n",
    "    \"  `last_name` varchar(16) NOT NULL,\"\n",
    "    \"  `gender` enum('M','F') NOT NULL,\"\n",
    "    \"  `hire_date` date NOT NULL,\"\n",
    "    \"  PRIMARY KEY (`emp_no`)\"\n",
    "    \") ENGINE=InnoDB\")\n"
   ]
  },
  {
   "cell_type": "markdown",
   "metadata": {},
   "source": [
    "#### Capture Exceptions"
   ]
  },
  {
   "cell_type": "code",
   "execution_count": 133,
   "metadata": {},
   "outputs": [],
   "source": [
    "from mysql.connector import errorcode"
   ]
  },
  {
   "cell_type": "markdown",
   "metadata": {},
   "source": [
    "#### Executing query -- cursor.execute(\"query\")"
   ]
  },
  {
   "cell_type": "code",
   "execution_count": 134,
   "metadata": {},
   "outputs": [
    {
     "name": "stdout",
     "output_type": "stream",
     "text": [
      "Database employees does not exists.\n",
      "Database employees created successfully.\n"
     ]
    }
   ],
   "source": [
    "def create_database(cursor):\n",
    "    try:\n",
    "        cursor.execute(\n",
    "            \"CREATE DATABASE {} DEFAULT CHARACTER SET 'utf8'\".format(DB_NAME))     # create database query\n",
    "    except mysql.connector.Error as err:                                           # error in creation\n",
    "        print(\"Failed creating database: {}\".format(err))           \n",
    "        exit(1)\n",
    "\n",
    "try:\n",
    "    cursor.execute(\"USE {}\".format(DB_NAME))                         # use database command\n",
    "except mysql.connector.Error as err:                                 # will return error if data base does not exists\n",
    "    print(\"Database {} does not exists.\".format(DB_NAME))\n",
    "    if err.errno == errorcode.ER_BAD_DB_ERROR:                       # if error was no db\n",
    "        create_database(cursor)                                      # call function to create DB\n",
    "        print(\"Database {} created successfully.\".format(DB_NAME))   \n",
    "        cnx.database = DB_NAME\n",
    "    else:\n",
    "        print(err)\n",
    "        exit(1)"
   ]
  },
  {
   "cell_type": "code",
   "execution_count": 135,
   "metadata": {},
   "outputs": [
    {
     "name": "stdout",
     "output_type": "stream",
     "text": [
      "Creating table employees: OK\n"
     ]
    }
   ],
   "source": [
    "for table_name in TABLES:\n",
    "    table_description = TABLES[table_name]\n",
    "    try:\n",
    "        print(\"Creating table {}: \".format(table_name), end='')\n",
    "        cursor.execute(table_description)\n",
    "    except mysql.connector.Error as err:\n",
    "        if err.errno == errorcode.ER_TABLE_EXISTS_ERROR:            # error exception if table exists\n",
    "            print(\"already exists.\")\n",
    "        else:\n",
    "            print(err.msg)\n",
    "    else:\n",
    "        print(\"OK\")\n",
    "\n"
   ]
  },
  {
   "cell_type": "markdown",
   "metadata": {},
   "source": [
    "#### Insert data"
   ]
  },
  {
   "cell_type": "code",
   "execution_count": 136,
   "metadata": {},
   "outputs": [],
   "source": [
    "from datetime import date, datetime, timedelta\n",
    "tomorrow = datetime.now().date() + timedelta(days=1)\n",
    "\n",
    "add_employee = (\"INSERT INTO employees (first_name, last_name, hire_date, gender, birth_date) VALUES (%s, %s, %s, %s, %s)\")\n",
    "data_employee = ('Jeevan', 'Venkataramana', tomorrow, 'M', date(1993, 8, 3))\n",
    "data_employee2 = ('Pranavi', 'Venkataramana', tomorrow, 'F', date(1992, 1, 20))\n",
    "\n",
    "# Insert new employee\n",
    "cursor.execute(add_employee, data_employee)\n",
    "cnx.commit()\n",
    "cursor.execute(add_employee, data_employee2)\n",
    "cnx.commit()\n"
   ]
  },
  {
   "cell_type": "markdown",
   "metadata": {},
   "source": [
    "#### View -- cursor.execute(query,(tuple of values))"
   ]
  },
  {
   "cell_type": "code",
   "execution_count": 137,
   "metadata": {},
   "outputs": [
    {
     "name": "stdout",
     "output_type": "stream",
     "text": [
      "Venkataramana was hired on 28 Sep 2018\n",
      "Venkataramana was hired on 28 Sep 2018\n"
     ]
    }
   ],
   "source": [
    "\n",
    "query = (\"SELECT last_name, hire_date FROM employees WHERE hire_date BETWEEN %s AND %s\")\n",
    "#query = (\"SELECT first_name, last_name, hire_date FROM employees WHERE hire_date BETWEEN %s AND %s\")\n",
    "start_date=date(2017, 1, 1)\n",
    "end_date=date(2019, 12, 31)\n",
    "cursor.execute(query,(start_date,end_date))\n",
    "for (last_name, hire_date) in cursor:\n",
    "    print(\"{} was hired on {:%d %b %Y}\".format(last_name, hire_date))"
   ]
  },
  {
   "cell_type": "code",
   "execution_count": 138,
   "metadata": {},
   "outputs": [
    {
     "name": "stdout",
     "output_type": "stream",
     "text": [
      "1 03 Aug 1993 Jeevan Venkataramana M 28 Sep 2018\n",
      "2 20 Jan 1992 Pranavi Venkataramana F 28 Sep 2018\n"
     ]
    }
   ],
   "source": [
    "query = (\"SELECT emp_no, birth_date, first_name, last_name, gender, hire_date FROM employees WHERE hire_date BETWEEN %s AND %s\")\n",
    "start_date=date(2017, 1, 1)\n",
    "end_date=date(2019, 12, 31)\n",
    "cursor.execute(query,(start_date,end_date))\n",
    "for (emp_no, birth_date, first_name, last_name, gender, hire_date) in cursor:\n",
    "    print(\"{} {:%d %b %Y} {} {} {} {:%d %b %Y}\".format(emp_no, birth_date, first_name, last_name, gender, hire_date))"
   ]
  },
  {
   "cell_type": "code",
   "execution_count": 139,
   "metadata": {},
   "outputs": [
    {
     "name": "stdout",
     "output_type": "stream",
     "text": [
      "1 03 Aug 1993 Jeevan Venkataramana M 28 Sep 2018\n",
      "2 20 Jan 1992 Pranavi Venkataramana F 28 Sep 2018\n"
     ]
    }
   ],
   "source": [
    "query = (\"SELECT * FROM employees WHERE hire_date BETWEEN %s AND %s\")\n",
    "start_date=date(2017, 1, 1)\n",
    "end_date=date(2019, 12, 31)\n",
    "cursor.execute(query,(start_date,end_date))\n",
    "for (emp_no, birth_date, first_name, last_name, gender, hire_date) in cursor:\n",
    "    print(\"{} {:%d %b %Y} {} {} {} {:%d %b %Y}\".format(emp_no, birth_date, first_name, last_name, gender, hire_date))"
   ]
  },
  {
   "cell_type": "markdown",
   "metadata": {},
   "source": [
    "#### Closing objects "
   ]
  },
  {
   "cell_type": "code",
   "execution_count": 140,
   "metadata": {},
   "outputs": [],
   "source": [
    "cursor.close()\n",
    "cnx.close()"
   ]
  },
  {
   "cell_type": "markdown",
   "metadata": {},
   "source": [
    "#### Error Exceptions"
   ]
  },
  {
   "cell_type": "code",
   "execution_count": 128,
   "metadata": {},
   "outputs": [],
   "source": [
    "# Import Library\n",
    "\n",
    "from mysql.connector import Error\n",
    "from mysql.connector import errorcode"
   ]
  },
  {
   "cell_type": "markdown",
   "metadata": {},
   "source": [
    "#### except mysql.connector.Error as err:             --if above query results in any error"
   ]
  },
  {
   "cell_type": "markdown",
   "metadata": {},
   "source": [
    "#### example\n",
    "#### if err.errno == errorcode.ER_BAD_DB_ERROR:       -- if DB attempted to use doesnot exist"
   ]
  },
  {
   "cell_type": "markdown",
   "metadata": {},
   "source": [
    "#### errorcode.ER_BAD_TABLE_ERROR --> if table unable to create or not present\n",
    "\n",
    "#### mysql.connector.Error --> general error\n",
    "\n",
    "#### errors.DataError --> problems with the data.\n",
    "\n",
    "#### errors.DatabaseError --> This exception is the default for any MySQL error which does not fit the other exceptions.\n",
    "\n",
    "#### mysql.connector.IntegrityError --> when the relational integrity of the data is affected. For example, a duplicate key was inserted or a foreign key constraint would fail.\n",
    "\n",
    "#### mysql.connector.InterfaceError --> This exception is raised for errors originating from Connector/Python itself, not related to the MySQL server.\n",
    "\n",
    "#### errors.InternalError --> when the MySQL server encounters an internal error\n",
    "\n",
    "#### errors.OperationalError -->  errors which are related to MySQL operations. For example: too many connections; a host name could not be resolved; bad handshake; server is shutting down, communication errors.\n",
    "\n",
    "#### mysql.connector.ProgrammingError -->  raised on programming errors, for example when you have a syntax error in your SQL or a table was not found.\n"
   ]
  },
  {
   "cell_type": "code",
   "execution_count": 125,
   "metadata": {},
   "outputs": [],
   "source": []
  },
  {
   "cell_type": "code",
   "execution_count": null,
   "metadata": {},
   "outputs": [],
   "source": []
  }
 ],
 "metadata": {
  "kernelspec": {
   "display_name": "Python 3",
   "language": "python",
   "name": "python3"
  },
  "language_info": {
   "codemirror_mode": {
    "name": "ipython",
    "version": 3
   },
   "file_extension": ".py",
   "mimetype": "text/x-python",
   "name": "python",
   "nbconvert_exporter": "python",
   "pygments_lexer": "ipython3",
   "version": "3.6.5"
  }
 },
 "nbformat": 4,
 "nbformat_minor": 2
}
