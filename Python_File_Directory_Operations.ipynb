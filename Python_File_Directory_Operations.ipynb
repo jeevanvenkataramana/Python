{
 "cells": [
  {
   "cell_type": "markdown",
   "metadata": {},
   "source": [
    "### <font color=\"red\"> File Operations"
   ]
  },
  {
   "cell_type": "markdown",
   "metadata": {},
   "source": [
    "### File Object -- Opening a file object"
   ]
  },
  {
   "cell_type": "code",
   "execution_count": 274,
   "metadata": {},
   "outputs": [
    {
     "ename": "FileNotFoundError",
     "evalue": "[Errno 2] No such file or directory: 'New Text Document.txt'",
     "output_type": "error",
     "traceback": [
      "\u001b[1;31m---------------------------------------------------------------------------\u001b[0m",
      "\u001b[1;31mFileNotFoundError\u001b[0m                         Traceback (most recent call last)",
      "\u001b[1;32m<ipython-input-274-81f91a1bc50a>\u001b[0m in \u001b[0;36m<module>\u001b[1;34m()\u001b[0m\n\u001b[1;32m----> 1\u001b[1;33m \u001b[0mfile\u001b[0m \u001b[1;33m=\u001b[0m \u001b[0mopen\u001b[0m\u001b[1;33m(\u001b[0m\u001b[1;34m\"New Text Document.txt\"\u001b[0m\u001b[1;33m)\u001b[0m        \u001b[1;31m# create a new text document in current working directory\u001b[0m\u001b[1;33m\u001b[0m\u001b[0m\n\u001b[0m",
      "\u001b[1;31mFileNotFoundError\u001b[0m: [Errno 2] No such file or directory: 'New Text Document.txt'"
     ]
    }
   ],
   "source": [
    "file = open(\"New Text Document.txt\")        # create a new text document in current working directory"
   ]
  },
  {
   "cell_type": "markdown",
   "metadata": {},
   "source": [
    "####  Syntax:   <font color=\"red\"> file_obj = open(file_name, access_mode, Buffering)\n",
    "\n",
    "#### acess_modes\n",
    "\n",
    "#### <b> r -- Opens a file for reading only\n",
    "#### rb -- Opens a file for reading only in binary format\n",
    "#### r+ -- Opens a file for reading and writing\n",
    "#### rb+ -- Opens a file for reading and writing in binary format\n",
    "#### w -- Opens a file for writing only , creates a new file if file doesnot exist, overwrites if file exists.\n",
    "#### wb -- Opens a file for writing in binary format\n",
    "#### w+ -- Opens a file for reading and writing\n",
    "#### wb+ -- Opens a file for reading and writing in binary format\n",
    "#### a -- Opens a file for appending. file pointer is at the end of the file. If the file doesnot exits creates a new one\n",
    "#### ab -- Opens a file for appending in binary format. file pointer is at the end of the file. If the file doesnot exits creates a new one\n",
    "</b>\n"
   ]
  },
  {
   "cell_type": "markdown",
   "metadata": {},
   "source": [
    "### File Object Attributes"
   ]
  },
  {
   "cell_type": "code",
   "execution_count": 275,
   "metadata": {},
   "outputs": [
    {
     "name": "stdout",
     "output_type": "stream",
     "text": [
      "file access mode: wb\n",
      "file name of object: New Text Document.txt\n",
      "file close status: False\n",
      "file close status: True\n"
     ]
    }
   ],
   "source": [
    "file = open(\"New Text Document.txt\", \"wb\")\n",
    "print(\"file access mode:\",file.mode)\n",
    "print(\"file name of object:\",file.name)\n",
    "print(\"file close status:\",file.closed)\n",
    "file.close()\n",
    "print(\"file close status:\",file.closed)"
   ]
  },
  {
   "cell_type": "markdown",
   "metadata": {},
   "source": [
    "### File Object Close -- Closing a file object"
   ]
  },
  {
   "cell_type": "code",
   "execution_count": 276,
   "metadata": {},
   "outputs": [],
   "source": [
    "file = open(\"New Text Document.txt\")\n",
    "file.close()"
   ]
  },
  {
   "cell_type": "markdown",
   "metadata": {},
   "source": [
    "### Write to a file"
   ]
  },
  {
   "cell_type": "code",
   "execution_count": 277,
   "metadata": {},
   "outputs": [],
   "source": [
    "file = open(\"New Text Document.txt\",\"w\")        # -- Open a file for writing \n",
    "file.write(\"My name is Jeevan\")                 # -- Write the text to a file. Text is continuous\n",
    "file.close()                                    # -- close the file "
   ]
  },
  {
   "cell_type": "code",
   "execution_count": 278,
   "metadata": {},
   "outputs": [],
   "source": [
    "file = open(\"New Text Document.txt\",\"w\")        # -- Open a file for writing \n",
    "file.write(\"My first name is Jeevan \\nMy last name is Venkataramana\")                 # -- Write the text to a file\n",
    "file.close()                                    # -- close the file "
   ]
  },
  {
   "cell_type": "markdown",
   "metadata": {},
   "source": [
    "### Read from a file -- file_object.read(count)"
   ]
  },
  {
   "cell_type": "code",
   "execution_count": 279,
   "metadata": {},
   "outputs": [
    {
     "name": "stdout",
     "output_type": "stream",
     "text": [
      "My first name is Jeevan \n",
      "My last name is Venkataramana\n"
     ]
    }
   ],
   "source": [
    "file= open(\"New Text Document.txt\",\"r+\") \n",
    "str = file.read()\n",
    "print(str)\n",
    "file.close()"
   ]
  },
  {
   "cell_type": "code",
   "execution_count": 280,
   "metadata": {},
   "outputs": [
    {
     "name": "stdout",
     "output_type": "stream",
     "text": [
      "My first name is Jee\n"
     ]
    }
   ],
   "source": [
    "file= open(\"New Text Document.txt\",\"r+\") \n",
    "str = file.read(20)\n",
    "print(str)\n",
    "file.close()"
   ]
  },
  {
   "cell_type": "markdown",
   "metadata": {},
   "source": [
    "### Read lines consecutively -- file_object.readline()"
   ]
  },
  {
   "cell_type": "code",
   "execution_count": 281,
   "metadata": {},
   "outputs": [
    {
     "name": "stdout",
     "output_type": "stream",
     "text": [
      "My name is jeevan\n",
      "\n",
      "My age is 25\n",
      "\n",
      "I am from San Jose State University\n",
      "\n"
     ]
    }
   ],
   "source": [
    "file= open(\"New Text Document.txt\",\"w\") \n",
    "str = file.write(\"My name is jeevan\\nMy age is 25\\nI am from San Jose State University\\n\")\n",
    "file.close()\n",
    "file= open(\"New Text Document.txt\",\"r+\")\n",
    "for line in range(3):\n",
    "    print(file.readline())\n",
    "file.close()"
   ]
  },
  {
   "cell_type": "code",
   "execution_count": 282,
   "metadata": {},
   "outputs": [
    {
     "name": "stdout",
     "output_type": "stream",
     "text": [
      "My name is jeevan\n",
      "\n",
      "My age is 25\n",
      "\n",
      "I am from San Jose State University\n",
      "\n"
     ]
    }
   ],
   "source": [
    "file= open(\"New Text Document.txt\",\"r+\")\n",
    "for line in file:\n",
    "    print(line)\n",
    "file.close()"
   ]
  },
  {
   "cell_type": "markdown",
   "metadata": {},
   "source": [
    "### Make a list of all lines -- file_object.readlines()"
   ]
  },
  {
   "cell_type": "code",
   "execution_count": 283,
   "metadata": {},
   "outputs": [
    {
     "name": "stdout",
     "output_type": "stream",
     "text": [
      "['My name is jeevan\\n', 'My age is 25\\n', 'I am from San Jose State University\\n']\n"
     ]
    }
   ],
   "source": [
    "file= open(\"New Text Document.txt\",\"r+\")\n",
    "line_list = file.readlines()\n",
    "print(line_list)\n",
    "file.close()"
   ]
  },
  {
   "cell_type": "markdown",
   "metadata": {},
   "source": [
    "### Moving file pointer to a certain position -- file_object.seek(offset, from)"
   ]
  },
  {
   "cell_type": "markdown",
   "metadata": {},
   "source": [
    "##### offset -- Position of file pointer\n",
    "##### From -- 0 - start of file 1-- current position as reference  2 -- end of the file as reference"
   ]
  },
  {
   "cell_type": "code",
   "execution_count": 284,
   "metadata": {},
   "outputs": [
    {
     "name": "stdout",
     "output_type": "stream",
     "text": [
      "y name is \n"
     ]
    }
   ],
   "source": [
    "file= open(\"New Text Document.txt\",\"r+\") \n",
    "file.seek(1,0)\n",
    "str = file.read(10)\n",
    "print(str)\n",
    "file.close()"
   ]
  },
  {
   "cell_type": "markdown",
   "metadata": {},
   "source": [
    "### File object position -- file_object.tell()"
   ]
  },
  {
   "cell_type": "code",
   "execution_count": 285,
   "metadata": {},
   "outputs": [
    {
     "name": "stdout",
     "output_type": "stream",
     "text": [
      "15\n"
     ]
    }
   ],
   "source": [
    "file= open(\"New Text Document.txt\",\"r+\") \n",
    "file.seek(15,0)                                            # move to the 15th byte position\n",
    "print(file.tell())\n",
    "file.close()"
   ]
  },
  {
   "cell_type": "markdown",
   "metadata": {},
   "source": [
    "### Rename a file -- os.remane(old_file_name, new_file_name)"
   ]
  },
  {
   "cell_type": "code",
   "execution_count": 286,
   "metadata": {},
   "outputs": [],
   "source": [
    "import os\n",
    "file= open(\"sample.txt\",\"w+\")\n",
    "file.close()\n",
    "os.rename(\"sample.txt\",\"sample2.txt\")"
   ]
  },
  {
   "cell_type": "markdown",
   "metadata": {},
   "source": [
    "### Delete a file"
   ]
  },
  {
   "cell_type": "code",
   "execution_count": 287,
   "metadata": {},
   "outputs": [],
   "source": [
    "os.remove(\"sample2.txt\")"
   ]
  },
  {
   "cell_type": "code",
   "execution_count": 288,
   "metadata": {},
   "outputs": [],
   "source": [
    "os.chdir(\"C:\\\\Users\\\\jeevan venkataramana\\\\Documents\")"
   ]
  },
  {
   "cell_type": "markdown",
   "metadata": {},
   "source": [
    "### Create a directory"
   ]
  },
  {
   "cell_type": "code",
   "execution_count": 289,
   "metadata": {},
   "outputs": [],
   "source": [
    "os.mkdir(\"test\")"
   ]
  },
  {
   "cell_type": "markdown",
   "metadata": {},
   "source": [
    "### Change a directory"
   ]
  },
  {
   "cell_type": "code",
   "execution_count": 290,
   "metadata": {},
   "outputs": [],
   "source": [
    "os.chdir(\"test\")"
   ]
  },
  {
   "cell_type": "markdown",
   "metadata": {},
   "source": [
    "### Current directory"
   ]
  },
  {
   "cell_type": "code",
   "execution_count": 291,
   "metadata": {},
   "outputs": [
    {
     "data": {
      "text/plain": [
       "'C:\\\\Users\\\\jeevan venkataramana\\\\Documents\\\\test'"
      ]
     },
     "execution_count": 291,
     "metadata": {},
     "output_type": "execute_result"
    }
   ],
   "source": [
    "os.getcwd()"
   ]
  },
  {
   "cell_type": "code",
   "execution_count": 292,
   "metadata": {},
   "outputs": [
    {
     "data": {
      "text/plain": [
       "'C:\\\\Users\\\\jeevan venkataramana\\\\Documents'"
      ]
     },
     "execution_count": 292,
     "metadata": {},
     "output_type": "execute_result"
    }
   ],
   "source": [
    "os.chdir(\"..\")\n",
    "os.getcwd()"
   ]
  },
  {
   "cell_type": "markdown",
   "metadata": {},
   "source": [
    "### Remove a directory"
   ]
  },
  {
   "cell_type": "code",
   "execution_count": 293,
   "metadata": {},
   "outputs": [],
   "source": [
    "os.rmdir(\"test\")"
   ]
  },
  {
   "cell_type": "code",
   "execution_count": null,
   "metadata": {},
   "outputs": [],
   "source": []
  },
  {
   "cell_type": "code",
   "execution_count": null,
   "metadata": {},
   "outputs": [],
   "source": []
  }
 ],
 "metadata": {
  "kernelspec": {
   "display_name": "Python 3",
   "language": "python",
   "name": "python3"
  },
  "language_info": {
   "codemirror_mode": {
    "name": "ipython",
    "version": 3
   },
   "file_extension": ".py",
   "mimetype": "text/x-python",
   "name": "python",
   "nbconvert_exporter": "python",
   "pygments_lexer": "ipython3",
   "version": "3.6.5"
  }
 },
 "nbformat": 4,
 "nbformat_minor": 2
}
