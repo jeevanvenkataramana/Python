{
 "cells": [
  {
   "cell_type": "markdown",
   "metadata": {},
   "source": [
    "### File Operations"
   ]
  },
  {
   "cell_type": "markdown",
   "metadata": {},
   "source": [
    "### File Object -- Opening a file object"
   ]
  },
  {
   "cell_type": "code",
   "execution_count": 21,
   "metadata": {},
   "outputs": [],
   "source": [
    "file = open(\"New Text Document.txt\")        # create a new text document in current working directory"
   ]
  },
  {
   "cell_type": "markdown",
   "metadata": {},
   "source": [
    "####  Syntax: file_obj = open(file_name, access_mode, Buffering)\n",
    "\n",
    "#### acess_modes\n",
    "\n",
    "####  r -- Opens a file for reading only\n",
    "#### rb -- Opens a file for reading only in binary format\n",
    "#### r+ -- Opens a file for reading and writing\n",
    "#### rb+ -- Opens a file for reading and writing in binary format\n",
    "#### w -- Opens a file for writing only , creates a new file if file doesnot exist, overwrites if file exists.\n",
    "#### wb -- Opens a file for writing in binary format\n",
    "#### w+ -- Opens a file for reading and writing\n",
    "#### wb+ -- Opens a file for reading and writing in binary format\n",
    "#### a -- Opens a file for appending. file pointer is at the end of the file. If the file doesnot exits creates a new one\n",
    "#### ab -- Opens a file for appending in binary format. file pointer is at the end of the file. If the file doesnot exits creates a new one"
   ]
  },
  {
   "cell_type": "markdown",
   "metadata": {},
   "source": [
    "### File Object Attributes"
   ]
  },
  {
   "cell_type": "code",
   "execution_count": 22,
   "metadata": {},
   "outputs": [
    {
     "name": "stdout",
     "output_type": "stream",
     "text": [
      "file access mode: wb\n",
      "file name of object: New Text Document.txt\n",
      "file close status: False\n",
      "file close status: True\n"
     ]
    }
   ],
   "source": [
    "file = open(\"New Text Document.txt\", \"wb\")\n",
    "print(\"file access mode:\",file.mode)\n",
    "print(\"file name of object:\",file.name)\n",
    "print(\"file close status:\",file.closed)\n",
    "file.close()\n",
    "print(\"file close status:\",file.closed)"
   ]
  },
  {
   "cell_type": "markdown",
   "metadata": {},
   "source": [
    "### File Object Close -- Closing a file object"
   ]
  },
  {
   "cell_type": "code",
   "execution_count": 23,
   "metadata": {},
   "outputs": [],
   "source": [
    "file = open(\"New Text Document.txt\")\n",
    "file.close()"
   ]
  },
  {
   "cell_type": "markdown",
   "metadata": {},
   "source": [
    "### Write to a file"
   ]
  },
  {
   "cell_type": "code",
   "execution_count": 24,
   "metadata": {},
   "outputs": [],
   "source": [
    "file = open(\"New Text Document.txt\",\"w\")        # -- Open a file for writing \n",
    "file.write(\"My name is Jeevan\")                 # -- Write the text to a file. Text is continuous\n",
    "file.close()                                    # -- close the file "
   ]
  },
  {
   "cell_type": "code",
   "execution_count": 25,
   "metadata": {},
   "outputs": [],
   "source": [
    "file = open(\"New Text Document.txt\",\"w\")        # -- Open a file for writing \n",
    "file.write(\"My first name is Jeevan \\nMy last name is Venkataramana\")                 # -- Write the text to a file\n",
    "file.close()                                    # -- close the file "
   ]
  },
  {
   "cell_type": "markdown",
   "metadata": {},
   "source": [
    "### Read from a file -- file_object.read(count)"
   ]
  },
  {
   "cell_type": "code",
   "execution_count": 26,
   "metadata": {},
   "outputs": [
    {
     "name": "stdout",
     "output_type": "stream",
     "text": [
      "My first name is Jeevan \n",
      "My last name is Venkataramana\n"
     ]
    }
   ],
   "source": [
    "file= open(\"New Text Document.txt\",\"r+\") \n",
    "str = file.read()\n",
    "print(str)\n",
    "file.close()"
   ]
  },
  {
   "cell_type": "code",
   "execution_count": 27,
   "metadata": {},
   "outputs": [
    {
     "name": "stdout",
     "output_type": "stream",
     "text": [
      "My first name is Jee\n"
     ]
    }
   ],
   "source": [
    "file= open(\"New Text Document.txt\",\"r+\") \n",
    "str = file.read(20)\n",
    "print(str)\n",
    "file.close()"
   ]
  },
  {
   "cell_type": "markdown",
   "metadata": {},
   "source": [
    "### Read lines consecutively -- file_object.readline()"
   ]
  },
  {
   "cell_type": "code",
   "execution_count": 28,
   "metadata": {},
   "outputs": [
    {
     "name": "stdout",
     "output_type": "stream",
     "text": [
      "My name is jeevan\n",
      "\n",
      "My age is 25\n",
      "\n",
      "I am from San Jose State University\n",
      "\n"
     ]
    }
   ],
   "source": [
    "file= open(\"New Text Document.txt\",\"w\") \n",
    "str = file.write(\"My name is jeevan\\nMy age is 25\\nI am from San Jose State University\\n\")\n",
    "file.close()\n",
    "file= open(\"New Text Document.txt\",\"r+\")\n",
    "for line in range(3):\n",
    "    print(file.readline())\n",
    "file.close()"
   ]
  },
  {
   "cell_type": "code",
   "execution_count": 29,
   "metadata": {},
   "outputs": [
    {
     "name": "stdout",
     "output_type": "stream",
     "text": [
      "My name is jeevan\n",
      "\n",
      "My age is 25\n",
      "\n",
      "I am from San Jose State University\n",
      "\n"
     ]
    }
   ],
   "source": [
    "file= open(\"New Text Document.txt\",\"r+\")\n",
    "for line in file:\n",
    "    print(line)\n",
    "file.close()"
   ]
  },
  {
   "cell_type": "markdown",
   "metadata": {},
   "source": [
    "### Make a list of all lines -- file_object.readlines()"
   ]
  },
  {
   "cell_type": "code",
   "execution_count": 30,
   "metadata": {},
   "outputs": [
    {
     "name": "stdout",
     "output_type": "stream",
     "text": [
      "['My name is jeevan\\n', 'My age is 25\\n', 'I am from San Jose State University\\n']\n"
     ]
    }
   ],
   "source": [
    "file= open(\"New Text Document.txt\",\"r+\")\n",
    "line_list = file.readlines()\n",
    "print(line_list)\n",
    "file.close()"
   ]
  },
  {
   "cell_type": "markdown",
   "metadata": {},
   "source": [
    "### Moving file pointer to a certain position -- file_object.seek(offset, from)"
   ]
  },
  {
   "cell_type": "markdown",
   "metadata": {},
   "source": [
    "##### offset -- Position of file pointer\n",
    "##### From -- 0 - start of file 1-- current position as reference  2 -- end of the file as reference"
   ]
  },
  {
   "cell_type": "code",
   "execution_count": 31,
   "metadata": {},
   "outputs": [
    {
     "name": "stdout",
     "output_type": "stream",
     "text": [
      "y name is \n"
     ]
    }
   ],
   "source": [
    "file= open(\"New Text Document.txt\",\"r+\") \n",
    "file.seek(1,0)\n",
    "str = file.read(10)\n",
    "print(str)\n",
    "file.close()"
   ]
  },
  {
   "cell_type": "markdown",
   "metadata": {},
   "source": [
    "### File object position -- file_object.tell()"
   ]
  },
  {
   "cell_type": "code",
   "execution_count": 32,
   "metadata": {},
   "outputs": [
    {
     "name": "stdout",
     "output_type": "stream",
     "text": [
      "15\n"
     ]
    }
   ],
   "source": [
    "file= open(\"New Text Document.txt\",\"r+\") \n",
    "file.seek(15,0)                                            # move to the 15th byte position\n",
    "print(file.tell())\n",
    "file.close()"
   ]
  },
  {
   "cell_type": "markdown",
   "metadata": {},
   "source": [
    "### Rename a file -- os.remane(old_file_name, new_file_name)"
   ]
  },
  {
   "cell_type": "code",
   "execution_count": 33,
   "metadata": {},
   "outputs": [],
   "source": [
    "import os\n",
    "file= open(\"sample.txt\",\"w+\")\n",
    "file.close()\n",
    "os.rename(\"sample.txt\",\"sample2.txt\")"
   ]
  },
  {
   "cell_type": "markdown",
   "metadata": {},
   "source": [
    "### Delete a file"
   ]
  },
  {
   "cell_type": "code",
   "execution_count": 34,
   "metadata": {},
   "outputs": [],
   "source": [
    "os.remove(\"sample2.txt\")"
   ]
  },
  {
   "cell_type": "code",
   "execution_count": 35,
   "metadata": {},
   "outputs": [],
   "source": [
    "os.chdir(\"C:\\\\Users\\\\jeevan venkataramana\\\\Documents\")"
   ]
  },
  {
   "cell_type": "markdown",
   "metadata": {},
   "source": [
    "### Create a directory"
   ]
  },
  {
   "cell_type": "code",
   "execution_count": 36,
   "metadata": {},
   "outputs": [],
   "source": [
    "os.mkdir(\"test\")"
   ]
  },
  {
   "cell_type": "markdown",
   "metadata": {},
   "source": [
    "### Change a directory"
   ]
  },
  {
   "cell_type": "code",
   "execution_count": 37,
   "metadata": {},
   "outputs": [],
   "source": [
    "os.chdir(\"test\")"
   ]
  },
  {
   "cell_type": "markdown",
   "metadata": {},
   "source": [
    "### Current directory"
   ]
  },
  {
   "cell_type": "code",
   "execution_count": 38,
   "metadata": {},
   "outputs": [
    {
     "data": {
      "text/plain": [
       "'C:\\\\Users\\\\jeevan venkataramana\\\\Documents\\\\test'"
      ]
     },
     "execution_count": 38,
     "metadata": {},
     "output_type": "execute_result"
    }
   ],
   "source": [
    "os.getcwd()"
   ]
  },
  {
   "cell_type": "code",
   "execution_count": 39,
   "metadata": {},
   "outputs": [
    {
     "data": {
      "text/plain": [
       "'C:\\\\Users\\\\jeevan venkataramana\\\\Documents'"
      ]
     },
     "execution_count": 39,
     "metadata": {},
     "output_type": "execute_result"
    }
   ],
   "source": [
    "os.chdir(\"..\")\n",
    "os.getcwd()"
   ]
  },
  {
   "cell_type": "markdown",
   "metadata": {},
   "source": [
    "### Remove a directory"
   ]
  },
  {
   "cell_type": "code",
   "execution_count": 40,
   "metadata": {},
   "outputs": [],
   "source": [
    "os.rmdir(\"test\")"
   ]
  },
  {
   "cell_type": "code",
   "execution_count": null,
   "metadata": {},
   "outputs": [],
   "source": []
  }
 ],
 "metadata": {
  "kernelspec": {
   "display_name": "Python 3",
   "language": "python",
   "name": "python3"
  },
  "language_info": {
   "codemirror_mode": {
    "name": "ipython",
    "version": 3
   },
   "file_extension": ".py",
   "mimetype": "text/x-python",
   "name": "python",
   "nbconvert_exporter": "python",
   "pygments_lexer": "ipython3",
   "version": "3.6.5"
  }
 },
 "nbformat": 4,
 "nbformat_minor": 2
}
