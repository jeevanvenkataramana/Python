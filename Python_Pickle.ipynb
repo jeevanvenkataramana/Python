{
 "cells": [
  {
   "cell_type": "markdown",
   "metadata": {},
   "source": [
    "#####  Pickling is the serializing and de-serializing of python objects to a byte stream. Unpicking is the opposite."
   ]
  },
  {
   "cell_type": "markdown",
   "metadata": {},
   "source": [
    "#####  Pickling is used to store python objects. This means things like lists, dictionaries, class objects, and more."
   ]
  },
  {
   "cell_type": "markdown",
   "metadata": {},
   "source": [
    "##### Create a pickle file -- open(\"filename.pickle\",\"wb or rb\")"
   ]
  },
  {
   "cell_type": "code",
   "execution_count": 2,
   "metadata": {},
   "outputs": [],
   "source": [
    "import pickle\n",
    "pickle_out = open(\"sample.pickle\",\"wb+\")                         # only binary write or read possible\n",
    "pickle_out.close()"
   ]
  },
  {
   "cell_type": "markdown",
   "metadata": {},
   "source": [
    "##### Writing to a pickle file -- pickle.dump(data, pickle_obj_name)"
   ]
  },
  {
   "cell_type": "code",
   "execution_count": 3,
   "metadata": {},
   "outputs": [
    {
     "name": "stdout",
     "output_type": "stream",
     "text": [
      "{'name': 'jeevan', 'age': 25, 'contact': [16692819030, 'jeevan.venkataramana@gmail.com']}\n"
     ]
    }
   ],
   "source": [
    "import pickle\n",
    "dict = {\"name\":\"jeevan\",\"age\":25, \"contact\": [+16692819030, \"jeevan.venkataramana@gmail.com\"]}\n",
    "print(dict)\n",
    "pickle_out = open(\"sample.pickle\",\"wb+\")                         # only binary write or read possible\n",
    "pickle.dump(dict , pickle_out)\n",
    "pickle_out.close()"
   ]
  },
  {
   "cell_type": "markdown",
   "metadata": {},
   "source": [
    "#### Read from a pickle file -- pickle.load(pickle_object_name)"
   ]
  },
  {
   "cell_type": "code",
   "execution_count": 4,
   "metadata": {},
   "outputs": [
    {
     "name": "stdout",
     "output_type": "stream",
     "text": [
      "{'name': 'jeevan', 'age': 25, 'contact': [16692819030, 'jeevan.venkataramana@gmail.com']}\n"
     ]
    }
   ],
   "source": [
    "import pickle\n",
    "pickle_obj=open(\"sample.pickle\",\"rb+\")\n",
    "dict = pickle.load(pickle_obj)\n",
    "print(dict)\n",
    "pickle_obj.close()"
   ]
  },
  {
   "cell_type": "code",
   "execution_count": 5,
   "metadata": {},
   "outputs": [
    {
     "name": "stdout",
     "output_type": "stream",
     "text": [
      "{'name': 'jeevan', 'age': 25, 'contact': [16692819030, 'jeevan.venkataramana@gmail.com']}\n"
     ]
    }
   ],
   "source": [
    "import pickle\n",
    "\n",
    "with open('sample.pickle', 'rb') as f:\n",
    "    data = pickle.load(f)\n",
    "    print(data)\n",
    "f.close()\n"
   ]
  },
  {
   "cell_type": "markdown",
   "metadata": {},
   "source": [
    "##### Delete a pickle file "
   ]
  },
  {
   "cell_type": "code",
   "execution_count": 6,
   "metadata": {},
   "outputs": [],
   "source": [
    "import os\n",
    "os.remove(\"sample.pickle\")"
   ]
  },
  {
   "cell_type": "code",
   "execution_count": null,
   "metadata": {},
   "outputs": [],
   "source": []
  }
 ],
 "metadata": {
  "kernelspec": {
   "display_name": "Python 3",
   "language": "python",
   "name": "python3"
  },
  "language_info": {
   "codemirror_mode": {
    "name": "ipython",
    "version": 3
   },
   "file_extension": ".py",
   "mimetype": "text/x-python",
   "name": "python",
   "nbconvert_exporter": "python",
   "pygments_lexer": "ipython3",
   "version": "3.6.5"
  }
 },
 "nbformat": 4,
 "nbformat_minor": 2
}
