{
 "cells": [
  {
   "cell_type": "markdown",
   "metadata": {},
   "source": [
    "### Class Definition"
   ]
  },
  {
   "cell_type": "code",
   "execution_count": 1,
   "metadata": {},
   "outputs": [
    {
     "name": "stdout",
     "output_type": "stream",
     "text": [
      "jeevan venkataramana\n",
      "jeevan venkataramana\n",
      "jeevan.venkataramana@gmail.com\n"
     ]
    }
   ],
   "source": [
    "class Employee:                                          # class declaration\n",
    "    \n",
    "    def __init__(self,first,last):                       #constructor  self is the instance of class \n",
    "        self.first=first\n",
    "        self.last=last\n",
    "        self.email=first+\".\"+last+\"@gmail.com\"           #data members\n",
    "    \n",
    "    def fullname(self):                                  #instance will be passed by default\n",
    "        print(self.first,self.last)\n",
    "\n",
    "emp1=Employee(\"jeevan\",\"venkataramana\")                  #instance creation\n",
    "emp1.fullname()                                          # by default instance is passed as arguement\n",
    "Employee.fullname(emp1)                                  # previous arguement is also same\n",
    "print(emp1.email)\n"
   ]
  },
  {
   "cell_type": "markdown",
   "metadata": {},
   "source": [
    "### Class Variables"
   ]
  },
  {
   "cell_type": "code",
   "execution_count": 2,
   "metadata": {},
   "outputs": [
    {
     "name": "stdout",
     "output_type": "stream",
     "text": [
      "jeevan venkataramana jeevan.venkataramana@gmail.com 25\n",
      "jeevan venkataramana jeevan.venkataramana@gmail.com 25\n",
      "25\n",
      "25\n",
      "jeevan venkataramana jeevan.venkataramana@gmail.com 26\n"
     ]
    }
   ],
   "source": [
    "class Employee:                                          \n",
    "    age = 25                                           #define class variable that remain constant\n",
    "    def __init__(self,first,last):                        \n",
    "        self.first=first\n",
    "        self.last=last\n",
    "        self.email=first+\".\"+last+\"@gmail.com\"           \n",
    "    \n",
    "    def fulldetails(self):                                  \n",
    "        print(self.first,self.last,self.email,self.age)\n",
    "\n",
    "emp1=Employee(\"jeevan\",\"venkataramana\")                  \n",
    "emp1.fulldetails()                                          \n",
    "Employee.fulldetails(emp1)\n",
    "print(emp1.age)\n",
    "print(Employee.age)\n",
    "emp1.age=26                                             # can change values as well\n",
    "emp1.fulldetails()"
   ]
  },
  {
   "cell_type": "markdown",
   "metadata": {},
   "source": [
    "### Dictionary of class variables"
   ]
  },
  {
   "cell_type": "code",
   "execution_count": 3,
   "metadata": {},
   "outputs": [
    {
     "name": "stdout",
     "output_type": "stream",
     "text": [
      "{'first': 'jeevan', 'last': 'venkataramana', 'email': 'jeevan.venkataramana@gmail.com'}\n"
     ]
    }
   ],
   "source": [
    "class Employee:                                          \n",
    "    gender = \"male\"                                           \n",
    "    def __init__(self,first,last):                        \n",
    "        self.first=first\n",
    "        self.last=last\n",
    "        self.email=first+\".\"+last+\"@gmail.com\"           \n",
    "    \n",
    "    def fulldetails(self):                                  \n",
    "        print(self.first,self.last,self.email,self.gender)\n",
    "\n",
    "emp1=Employee(\"jeevan\",\"venkataramana\")                  \n",
    "print(emp1.__dict__)                                            # except the class variable explicitly defined "
   ]
  },
  {
   "cell_type": "markdown",
   "metadata": {},
   "source": [
    "### Count of class variable"
   ]
  },
  {
   "cell_type": "code",
   "execution_count": 1,
   "metadata": {},
   "outputs": [
    {
     "name": "stdout",
     "output_type": "stream",
     "text": [
      "0\n",
      "2\n"
     ]
    }
   ],
   "source": [
    "class Employee:\n",
    "    count=0\n",
    "    gender = \"male\"                                           \n",
    "    def __init__(self,first,last):                        \n",
    "        self.first=first\n",
    "        self.last=last\n",
    "        self.email=first+\".\"+last+\"@gmail.com\"\n",
    "        Employee.count += 1\n",
    "        \n",
    "\n",
    "print(Employee.count)\n",
    "emp1=Employee(\"jeevan\",\"venkataramana\")\n",
    "emp2=Employee(\"pranavi\",\"venkataramana\")\n",
    "print(Employee.count)                                         "
   ]
  },
  {
   "cell_type": "code",
   "execution_count": null,
   "metadata": {},
   "outputs": [],
   "source": []
  }
 ],
 "metadata": {
  "kernelspec": {
   "display_name": "Python 3",
   "language": "python",
   "name": "python3"
  },
  "language_info": {
   "codemirror_mode": {
    "name": "ipython",
    "version": 3
   },
   "file_extension": ".py",
   "mimetype": "text/x-python",
   "name": "python",
   "nbconvert_exporter": "python",
   "pygments_lexer": "ipython3",
   "version": "3.7.1"
  }
 },
 "nbformat": 4,
 "nbformat_minor": 2
}
