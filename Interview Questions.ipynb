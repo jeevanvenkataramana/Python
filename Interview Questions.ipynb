{
 "cells": [
  {
   "cell_type": "markdown",
   "metadata": {},
   "source": [
    "### MaxDifference in Array"
   ]
  },
  {
   "cell_type": "code",
   "execution_count": 3,
   "metadata": {},
   "outputs": [],
   "source": [
    "# Difference between an element and a minimum of lower index item\n",
    "\n",
    "def maxDifference(a):\n",
    "    max_diff=0\n",
    "    min_element=a[0]\n",
    "    \n",
    "    for i in range(1,len(a)):\n",
    "        if(a[i]-min_element>max_diff):\n",
    "            max_diff=a[i]-min_element\n",
    "        if(a[i]<min_element):\n",
    "            min_element=a[i]\n",
    "    \n",
    "    if(max_diff==0):\n",
    "        return(-1)\n",
    "    return(max_diff)        "
   ]
  },
  {
   "cell_type": "markdown",
   "metadata": {},
   "source": [
    "### Minmum Unique Array Sum"
   ]
  },
  {
   "cell_type": "code",
   "execution_count": 12,
   "metadata": {},
   "outputs": [
    {
     "name": "stdout",
     "output_type": "stream",
     "text": [
      "Expected: 15 Got:  15\n"
     ]
    }
   ],
   "source": [
    "def minUniqueArraySum(arr):\n",
    "    Tsum=0\n",
    "    for i in range(0,len(arr)):\n",
    "        while(arr.count(arr[i])>1):\n",
    "            arr[i]=arr[i]+1\n",
    "        Tsum=Tsum+arr[i]\n",
    "    return(Tsum)\n",
    "\n",
    "# or\n",
    "def minUniqueArraySum1(arr):\n",
    "    arr.sort()\n",
    "    Tsum=arr[0]\n",
    "    for i in range(1,len(arr)):\n",
    "        if(arr[i]==arr[i-1]):\n",
    "            arr[i]=arr[i]+1\n",
    "        if(arr[i]<arr[i-1]):\n",
    "            arr[i]=arr[i-1]+1\n",
    "        Tsum=Tsum+arr[i]\n",
    "    return(Tsum)\n",
    "\n",
    "print(\"Expected: 15 Got: \",minUniqueArraySum1([1,2,1,1,1]))"
   ]
  },
  {
   "cell_type": "markdown",
   "metadata": {},
   "source": [
    "### Subarray Sum"
   ]
  },
  {
   "cell_type": "code",
   "execution_count": 20,
   "metadata": {},
   "outputs": [
    {
     "name": "stdout",
     "output_type": "stream",
     "text": [
      "Expected: 50 Got:  50\n"
     ]
    }
   ],
   "source": [
    "# Given an array [4,5,6] calculate total sum of [4][5][6] + [4,5][5,6] + [4,5,6]\n",
    "\n",
    "def subArraySum(arr):\n",
    "    Tsum=0\n",
    "    n=len(arr)\n",
    "    for i in range(0,len(arr)):\n",
    "        Tsum=Tsum+(arr[i]*(i+1)*(n-i))\n",
    "    return(Tsum)\n",
    "\n",
    "print(\"Expected: 50 Got: \",subArraySum([4,5,6]))"
   ]
  },
  {
   "cell_type": "markdown",
   "metadata": {},
   "source": [
    "### Distinct Pairs"
   ]
  },
  {
   "cell_type": "code",
   "execution_count": 15,
   "metadata": {},
   "outputs": [
    {
     "name": "stdout",
     "output_type": "stream",
     "text": [
      " Result:  [(1, 9), (2, 8), (3, 7), (5, 5)]\n"
     ]
    }
   ],
   "source": [
    "# Given an array and a target value. Find the count of all distict pairs with sum = target value\n",
    "\n",
    "def distinctPair(arr, value):\n",
    "    pairs = list()\n",
    "    for i in range(0,len(arr)):\n",
    "        temp=value-arr[i]\n",
    "        if (temp in arr[:i]) or ((i!=len(arr)) and temp in arr[i+1:]):\n",
    "            add_t=(arr[i],temp)\n",
    "        if(arr[i]+arr[i]==value):\n",
    "            add_t=(arr[i],arr[i])\n",
    "        if not ((add_t in pairs) or ((add_t[1],add_t[0]) in pairs)):\n",
    "            pairs.append(add_t)\n",
    "    return(pairs)\n",
    "            \n",
    "            \n",
    "            \n",
    "print(\" Result: \",distinctPair([1,2,3,5,6,7,8,9,1],10))\n",
    "\n",
    "#(5,5) can be removed by removing the condition in step 9"
   ]
  },
  {
   "cell_type": "code",
   "execution_count": null,
   "metadata": {},
   "outputs": [],
   "source": []
  }
 ],
 "metadata": {
  "kernelspec": {
   "display_name": "Python 3",
   "language": "python",
   "name": "python3"
  },
  "language_info": {
   "codemirror_mode": {
    "name": "ipython",
    "version": 3
   },
   "file_extension": ".py",
   "mimetype": "text/x-python",
   "name": "python",
   "nbconvert_exporter": "python",
   "pygments_lexer": "ipython3",
   "version": "3.6.5"
  }
 },
 "nbformat": 4,
 "nbformat_minor": 2
}
