{
 "cells": [
  {
   "cell_type": "markdown",
   "metadata": {},
   "source": [
    "# First Class functions"
   ]
  },
  {
   "cell_type": "code",
   "execution_count": 1,
   "metadata": {},
   "outputs": [
    {
     "name": "stdout",
     "output_type": "stream",
     "text": [
      "<function square at 0x00000222CB4DCD08>\n",
      "25\n"
     ]
    }
   ],
   "source": [
    "def square(n):\n",
    "    return(n*n)\n",
    "\n",
    "f=square(5)\n",
    "print(square)\n",
    "print(f)"
   ]
  },
  {
   "cell_type": "code",
   "execution_count": 2,
   "metadata": {},
   "outputs": [
    {
     "name": "stdout",
     "output_type": "stream",
     "text": [
      "<function square at 0x00000222CB4DC400>\n",
      "<function square at 0x00000222CB4DC400>\n"
     ]
    }
   ],
   "source": [
    "def square(n):\n",
    "    return(n*n)\n",
    "\n",
    "f=square\n",
    "print(square)\n",
    "print(f)"
   ]
  },
  {
   "cell_type": "code",
   "execution_count": 3,
   "metadata": {},
   "outputs": [
    {
     "name": "stdout",
     "output_type": "stream",
     "text": [
      "<function square at 0x00000222CB4DCF28>\n",
      "25\n"
     ]
    }
   ],
   "source": [
    "def square(n):\n",
    "    return(n*n)\n",
    "\n",
    "f=square\n",
    "print(square)\n",
    "print(f(5))"
   ]
  },
  {
   "cell_type": "markdown",
   "metadata": {},
   "source": [
    "# 1st application"
   ]
  },
  {
   "cell_type": "code",
   "execution_count": 4,
   "metadata": {},
   "outputs": [
    {
     "name": "stdout",
     "output_type": "stream",
     "text": [
      "1,8,27,64,125,\n",
      "1,4,9,16,25,"
     ]
    }
   ],
   "source": [
    "def square(n):\n",
    "    return(n*n)\n",
    "\n",
    "def cube(n):\n",
    "    return(n*n*n)\n",
    "\n",
    "def print_op(func,list1):\n",
    "    for i in list1:\n",
    "        print(func(i),end=\",\")\n",
    "\n",
    "f=cube\n",
    "temp=[1,2,3,4,5]\n",
    "print_op(f,temp)\n",
    "print()\n",
    "print_op(square,temp)"
   ]
  },
  {
   "cell_type": "markdown",
   "metadata": {},
   "source": [
    "# 2nd application"
   ]
  },
  {
   "cell_type": "code",
   "execution_count": 5,
   "metadata": {},
   "outputs": [
    {
     "name": "stdout",
     "output_type": "stream",
     "text": [
      "Log:  hi\n"
     ]
    }
   ],
   "source": [
    "def print_log(msg):\n",
    "    def log_func():\n",
    "        print('Log: ',msg)\n",
    "    return log_func\n",
    "\n",
    "msg = \"hi\"\n",
    "temp = print_log(msg)\n",
    "temp()"
   ]
  },
  {
   "cell_type": "code",
   "execution_count": null,
   "metadata": {},
   "outputs": [],
   "source": []
  },
  {
   "cell_type": "code",
   "execution_count": null,
   "metadata": {},
   "outputs": [],
   "source": []
  }
 ],
 "metadata": {
  "kernelspec": {
   "display_name": "Python 3",
   "language": "python",
   "name": "python3"
  },
  "language_info": {
   "codemirror_mode": {
    "name": "ipython",
    "version": 3
   },
   "file_extension": ".py",
   "mimetype": "text/x-python",
   "name": "python",
   "nbconvert_exporter": "python",
   "pygments_lexer": "ipython3",
   "version": "3.7.1"
  }
 },
 "nbformat": 4,
 "nbformat_minor": 2
}
