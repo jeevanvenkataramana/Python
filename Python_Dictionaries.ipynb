{
 "cells": [
  {
   "cell_type": "markdown",
   "metadata": {},
   "source": [
    "### Python Dictionary\n",
    "\n",
    "\n",
    "Another useful data type built into Python is the dictionary. Unlike sequences, which are indexed by a range of numbers, dictionaries are indexed by keys, which can be any immutable type; strings and numbers can always be keys."
   ]
  },
  {
   "cell_type": "markdown",
   "metadata": {},
   "source": [
    "Key : Value pairs -- keys are distinct -- Values may not be "
   ]
  },
  {
   "cell_type": "markdown",
   "metadata": {},
   "source": [
    "Key is seperated from its value by a colon  (:)    Items are seperated by a comma (,) "
   ]
  },
  {
   "cell_type": "markdown",
   "metadata": {},
   "source": [
    "### Define a dictionary"
   ]
  },
  {
   "cell_type": "code",
   "execution_count": 120,
   "metadata": {},
   "outputs": [
    {
     "name": "stdout",
     "output_type": "stream",
     "text": [
      "{'Name': 'Jeevan', 'Age': 25, 'Sex': 'Male'}\n"
     ]
    }
   ],
   "source": [
    "dict = {'Name': 'Jeevan', 'Age': 25, 'Sex': 'Male'}\n",
    "print(dict)"
   ]
  },
  {
   "cell_type": "markdown",
   "metadata": {},
   "source": [
    "### Accessing values with key"
   ]
  },
  {
   "cell_type": "code",
   "execution_count": 121,
   "metadata": {},
   "outputs": [
    {
     "name": "stdout",
     "output_type": "stream",
     "text": [
      "Jeevan\n"
     ]
    }
   ],
   "source": [
    "dict = {'Name': 'Jeevan', 'Age': 25, 'Sex': 'Male'}\n",
    "print(dict['Name'])"
   ]
  },
  {
   "cell_type": "code",
   "execution_count": 122,
   "metadata": {},
   "outputs": [
    {
     "data": {
      "text/plain": [
       "456"
      ]
     },
     "execution_count": 122,
     "metadata": {},
     "output_type": "execute_result"
    }
   ],
   "source": [
    "temp = { 123 : 456 , 678 : 999}\n",
    "temp[123]"
   ]
  },
  {
   "cell_type": "code",
   "execution_count": 123,
   "metadata": {},
   "outputs": [
    {
     "data": {
      "text/plain": [
       "[0, 1, 2, 3]"
      ]
     },
     "execution_count": 123,
     "metadata": {},
     "output_type": "execute_result"
    }
   ],
   "source": [
    "temp = { 123 : [0,1,2,3] , 678 : [4,5,6,7]}\n",
    "temp[123]"
   ]
  },
  {
   "cell_type": "code",
   "execution_count": 124,
   "metadata": {},
   "outputs": [
    {
     "data": {
      "text/plain": [
       "0"
      ]
     },
     "execution_count": 124,
     "metadata": {},
     "output_type": "execute_result"
    }
   ],
   "source": [
    "temp = { 123 : [0,1,2,3] , 678 : [4,5,6,7]}\n",
    "temp[123][0]"
   ]
  },
  {
   "cell_type": "markdown",
   "metadata": {},
   "source": [
    "### Output a dictionary"
   ]
  },
  {
   "cell_type": "code",
   "execution_count": 125,
   "metadata": {},
   "outputs": [
    {
     "data": {
      "text/plain": [
       "{123: [0, 1, 2, 3], 678: [4, 5, 6, 7]}"
      ]
     },
     "execution_count": 125,
     "metadata": {},
     "output_type": "execute_result"
    }
   ],
   "source": [
    "temp = { 123 : [0,1,2,3] , 678 : [4,5,6,7]}\n",
    "temp"
   ]
  },
  {
   "cell_type": "code",
   "execution_count": 126,
   "metadata": {},
   "outputs": [
    {
     "name": "stdout",
     "output_type": "stream",
     "text": [
      "Name Jeevan\n",
      "Age 25\n",
      "Sex Male\n"
     ]
    }
   ],
   "source": [
    "dict = {'Name': 'Jeevan', 'Age': 25, 'Sex': 'Male'}\n",
    "for i in dict.copy():\n",
    "    print(i,dict[i])"
   ]
  },
  {
   "cell_type": "markdown",
   "metadata": {},
   "source": [
    "### Updating a dictionary"
   ]
  },
  {
   "cell_type": "code",
   "execution_count": 127,
   "metadata": {},
   "outputs": [
    {
     "name": "stdout",
     "output_type": "stream",
     "text": [
      "{'Name': 'jeevan', 'Age': 24}\n",
      "{'Name': 'jeevan', 'Age': 25, 'Sex': 'Male'}\n"
     ]
    }
   ],
   "source": [
    "dict = {'Name':'jeevan','Age':24}\n",
    "print(dict)\n",
    "dict['Age']=25\n",
    "dict['Sex']='Male'\n",
    "print(dict)"
   ]
  },
  {
   "cell_type": "markdown",
   "metadata": {},
   "source": [
    "### Deleting an Item in a dictionary"
   ]
  },
  {
   "cell_type": "code",
   "execution_count": 128,
   "metadata": {},
   "outputs": [
    {
     "name": "stdout",
     "output_type": "stream",
     "text": [
      "{'Name': 'jeevan', 'Age': 24}\n",
      "{'Name': 'jeevan'}\n"
     ]
    }
   ],
   "source": [
    "dict = {'Name':'jeevan','Age':24}\n",
    "print(dict)\n",
    "del dict['Age']\n",
    "print(dict)"
   ]
  },
  {
   "cell_type": "markdown",
   "metadata": {},
   "source": [
    "### Clear a dictionary"
   ]
  },
  {
   "cell_type": "code",
   "execution_count": 129,
   "metadata": {},
   "outputs": [
    {
     "name": "stdout",
     "output_type": "stream",
     "text": [
      "{'Name': 'jeevan', 'Age': 24}\n",
      "{}\n"
     ]
    }
   ],
   "source": [
    "dict = {'Name':'jeevan','Age':24}\n",
    "print(dict)\n",
    "dict.clear()\n",
    "print(dict)"
   ]
  },
  {
   "cell_type": "markdown",
   "metadata": {},
   "source": [
    "### Properties\n",
    "\n",
    "1. Only one entry per key allowed -- If duplicated last assignment wins \n",
    "\n",
    "2. Only strings, Numbers & Tuples allowed as key  \n"
   ]
  },
  {
   "cell_type": "markdown",
   "metadata": {},
   "source": [
    "### Built in functions"
   ]
  },
  {
   "cell_type": "markdown",
   "metadata": {},
   "source": [
    "#### Length -- len(dict_name)"
   ]
  },
  {
   "cell_type": "code",
   "execution_count": 130,
   "metadata": {},
   "outputs": [
    {
     "name": "stdout",
     "output_type": "stream",
     "text": [
      "3\n"
     ]
    }
   ],
   "source": [
    "dict = {'Name': 'Jeevan', 'Age': 25, 'Sex': 'Male'}\n",
    "print(len(dict))"
   ]
  },
  {
   "cell_type": "markdown",
   "metadata": {},
   "source": [
    "#### String -- str(dict_name)"
   ]
  },
  {
   "cell_type": "code",
   "execution_count": 131,
   "metadata": {},
   "outputs": [
    {
     "name": "stdout",
     "output_type": "stream",
     "text": [
      "{'Name': 'Jeevan', '\n"
     ]
    }
   ],
   "source": [
    "dict = {'Name': 'Jeevan', 'Age': 25, 'Sex': 'Male'}\n",
    "print(str(dict)[0:20])"
   ]
  },
  {
   "cell_type": "code",
   "execution_count": 132,
   "metadata": {},
   "outputs": [
    {
     "name": "stdout",
     "output_type": "stream",
     "text": [
      "<class 'dict'>\n"
     ]
    }
   ],
   "source": [
    "dict = {'Name': 'Jeevan', 'Age': 25, 'Sex': 'Male'}\n",
    "print(type(dict))"
   ]
  },
  {
   "cell_type": "markdown",
   "metadata": {},
   "source": [
    "### Methods"
   ]
  },
  {
   "cell_type": "markdown",
   "metadata": {},
   "source": [
    "#### Clear dictionary -- dict.clear()"
   ]
  },
  {
   "cell_type": "code",
   "execution_count": 133,
   "metadata": {},
   "outputs": [
    {
     "name": "stdout",
     "output_type": "stream",
     "text": [
      "{}\n"
     ]
    }
   ],
   "source": [
    "dict = {'Name': 'Jeevan', 'Age': 25, 'Sex': 'Male'}\n",
    "dict.clear()\n",
    "print(dict)"
   ]
  },
  {
   "cell_type": "markdown",
   "metadata": {},
   "source": [
    "#### Shallow Copy -- dict.copy()"
   ]
  },
  {
   "cell_type": "code",
   "execution_count": 134,
   "metadata": {},
   "outputs": [
    {
     "name": "stdout",
     "output_type": "stream",
     "text": [
      "{'Name': 'Jeevan', 'Age': 25, 'Sex': 'Male'}\n"
     ]
    }
   ],
   "source": [
    "dict = {'Name': 'Jeevan', 'Age': 25, 'Sex': 'Male'}\n",
    "temp = dict.copy()\n",
    "print(temp)"
   ]
  },
  {
   "cell_type": "code",
   "execution_count": 135,
   "metadata": {},
   "outputs": [
    {
     "name": "stdout",
     "output_type": "stream",
     "text": [
      "{'Name': 'Jeevan', 'Age': 25, 'Sex': 'Male'}\n"
     ]
    }
   ],
   "source": [
    "dict = {'Name': 'Jeevan', 'Age': 25, 'Sex': 'Male'}\n",
    "temp = dict\n",
    "print(temp)"
   ]
  },
  {
   "cell_type": "markdown",
   "metadata": {},
   "source": [
    "#### Create a dictionary with keys"
   ]
  },
  {
   "cell_type": "code",
   "execution_count": 136,
   "metadata": {},
   "outputs": [
    {
     "name": "stdout",
     "output_type": "stream",
     "text": [
      "{'name': 10, 'age': 10}\n"
     ]
    }
   ],
   "source": [
    "temp=['name','age']\n",
    "dict=dict.fromkeys(temp,10)\n",
    "print(dict)"
   ]
  },
  {
   "cell_type": "markdown",
   "metadata": {},
   "source": [
    "#### List of keys -- list(dict_name) or dict_name.keys()"
   ]
  },
  {
   "cell_type": "code",
   "execution_count": 137,
   "metadata": {},
   "outputs": [
    {
     "name": "stdout",
     "output_type": "stream",
     "text": [
      "['Name', 'Age', 'Sex']\n"
     ]
    }
   ],
   "source": [
    "dict = {'Name': 'Jeevan', 'Age': 25, 'Sex': 'Male'}\n",
    "temp=list(dict)\n",
    "print(temp)"
   ]
  },
  {
   "cell_type": "code",
   "execution_count": 138,
   "metadata": {},
   "outputs": [
    {
     "name": "stdout",
     "output_type": "stream",
     "text": [
      "dict_keys(['Name', 'Age', 'Sex'])\n",
      "['Name', 'Age', 'Sex']\n"
     ]
    }
   ],
   "source": [
    "dict = {'Name': 'Jeevan', 'Age': 25, 'Sex': 'Male'}\n",
    "temp=dict.keys()\n",
    "print(temp)\n",
    "temp=list(temp)\n",
    "print(temp)"
   ]
  },
  {
   "cell_type": "markdown",
   "metadata": {},
   "source": [
    "#### List of values -- list(dict_name.values()) "
   ]
  },
  {
   "cell_type": "code",
   "execution_count": 139,
   "metadata": {},
   "outputs": [
    {
     "name": "stdout",
     "output_type": "stream",
     "text": [
      "['Jeevan', 25, 'Male']\n"
     ]
    }
   ],
   "source": [
    "dict = {'Name': 'Jeevan', 'Age': 25, 'Sex': 'Male'}\n",
    "temp=list(dict.values())\n",
    "print(temp)"
   ]
  },
  {
   "cell_type": "markdown",
   "metadata": {},
   "source": [
    "#### List of items -- list(dict_name.items())"
   ]
  },
  {
   "cell_type": "code",
   "execution_count": 140,
   "metadata": {},
   "outputs": [
    {
     "name": "stdout",
     "output_type": "stream",
     "text": [
      "[('Name', 'Jeevan'), ('Age', 25), ('Sex', 'Male')]\n"
     ]
    }
   ],
   "source": [
    "dict = {'Name': 'Jeevan', 'Age': 25, 'Sex': 'Male'}\n",
    "temp=list(dict.items())\n",
    "print(temp)"
   ]
  },
  {
   "cell_type": "markdown",
   "metadata": {},
   "source": [
    "#### Add to dictionary -- dict.update(dict2)"
   ]
  },
  {
   "cell_type": "code",
   "execution_count": 141,
   "metadata": {},
   "outputs": [
    {
     "name": "stdout",
     "output_type": "stream",
     "text": [
      "{'Name': 'Jeevan', 'Age': 25, 'Sex': 'Male', 'phone': 6692819030}\n"
     ]
    }
   ],
   "source": [
    "dict = {'Name': 'Jeevan', 'Age': 25, 'Sex': 'Male'}\n",
    "dict2= {'phone':6692819030}\n",
    "dict.update(dict2)\n",
    "print(dict)"
   ]
  },
  {
   "cell_type": "markdown",
   "metadata": {},
   "source": [
    "#### Check if key present -- search_key in dict_name"
   ]
  },
  {
   "cell_type": "code",
   "execution_count": 142,
   "metadata": {},
   "outputs": [
    {
     "name": "stdout",
     "output_type": "stream",
     "text": [
      "True\n"
     ]
    }
   ],
   "source": [
    "dict = {'Name': 'Jeevan', 'Age': 25, 'Sex': 'Male'}\n",
    "print(\"Name\" in dict)"
   ]
  },
  {
   "cell_type": "markdown",
   "metadata": {},
   "source": [
    "#### Check if value present"
   ]
  },
  {
   "cell_type": "code",
   "execution_count": 143,
   "metadata": {},
   "outputs": [
    {
     "name": "stdout",
     "output_type": "stream",
     "text": [
      "True\n"
     ]
    }
   ],
   "source": [
    "dict = {'Name': 'Jeevan', 'Age': 25, 'Sex': 'Male'}\n",
    "print(\"Jeevan\" in dict.values())"
   ]
  },
  {
   "cell_type": "markdown",
   "metadata": {},
   "source": [
    "#### Get default value if key not present -- dict_name.get(key, default_message)"
   ]
  },
  {
   "cell_type": "code",
   "execution_count": 144,
   "metadata": {},
   "outputs": [
    {
     "name": "stdout",
     "output_type": "stream",
     "text": [
      "Jeevan\n",
      "number not present\n",
      "6692819030\n"
     ]
    }
   ],
   "source": [
    "dict = {'Name': 'Jeevan', 'Age': 25, 'Sex': 'Male'}\n",
    "print(dict.get('Name'))\n",
    "print(dict.get('phone','number not present'))\n",
    "dict['phone']=6692819030\n",
    "print(dict.get('phone','number not present'))"
   ]
  },
  {
   "cell_type": "code",
   "execution_count": null,
   "metadata": {},
   "outputs": [],
   "source": []
  }
 ],
 "metadata": {
  "kernelspec": {
   "display_name": "Python 3",
   "language": "python",
   "name": "python3"
  },
  "language_info": {
   "codemirror_mode": {
    "name": "ipython",
    "version": 3
   },
   "file_extension": ".py",
   "mimetype": "text/x-python",
   "name": "python",
   "nbconvert_exporter": "python",
   "pygments_lexer": "ipython3",
   "version": "3.6.5"
  }
 },
 "nbformat": 4,
 "nbformat_minor": 2
}
