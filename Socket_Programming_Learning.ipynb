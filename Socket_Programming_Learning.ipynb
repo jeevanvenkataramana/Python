{
 "cells": [
  {
   "cell_type": "markdown",
   "metadata": {},
   "source": [
    "####    <font color=\"red\"> Sockets are the endpoints of a bidirectional communications channel. Sockets may communicate within a process, between processes on the same machine, or between processes on different continents."
   ]
  },
  {
   "cell_type": "markdown",
   "metadata": {},
   "source": [
    "###    <font color=\"red\"> Domain"
   ]
  },
  {
   "cell_type": "markdown",
   "metadata": {},
   "source": [
    "<b>AF_INET</b> -- IPV4\n",
    "<br><br>\n",
    "<b>PF_INET</b> -- IPV6\n",
    "<br><br>\n",
    "<b>PF_UNIX </b>\n",
    "<br><br>\n",
    "<b>PF_X25</b>"
   ]
  },
  {
   "cell_type": "markdown",
   "metadata": {},
   "source": [
    "###    <font color=\"red\"> Type"
   ]
  },
  {
   "cell_type": "markdown",
   "metadata": {},
   "source": [
    "<b>SOCK_STREAM</b> -- for connection-oriented protocols\n",
    "\n",
    "<b>SOCK_DGRAM</b> -- for connectionless protocols"
   ]
  },
  {
   "cell_type": "markdown",
   "metadata": {},
   "source": [
    "###    <font color=\"red\">Socket Module </font>"
   ]
  },
  {
   "cell_type": "markdown",
   "metadata": {},
   "source": [
    "<b>s = socket.socket (socket_family, socket_type, protocol=0)</b>\n",
    "\n",
    "<b>socket_family</b> − This is either AF_UNIX or AF_INET, as explained earlier.\n",
    "\n",
    "<b>socket_type</b> − This is either SOCK_STREAM or SOCK_DGRAM.\n",
    "\n",
    "<b>protocol</b> − This is usually left out, defaulting to 0."
   ]
  },
  {
   "cell_type": "markdown",
   "metadata": {},
   "source": [
    "###    <font color=\"red\"> Server Socket Methods"
   ]
  },
  {
   "cell_type": "markdown",
   "metadata": {},
   "source": [
    "<b>  s.bind()</b> -- This method binds address (hostname, port number pair) to socket. "
   ]
  },
  {
   "cell_type": "markdown",
   "metadata": {},
   "source": [
    "<b>  s.listen()</b> -- This method sets up and start TCP lsitener. "
   ]
  },
  {
   "cell_type": "markdown",
   "metadata": {},
   "source": [
    "<b>  s.accept()</b> -- This passively accept TCP client connection, waiting until connection arrives (blocking). "
   ]
  },
  {
   "cell_type": "markdown",
   "metadata": {},
   "source": [
    "###    <font color=\"red\"> Client Socket Methods"
   ]
  },
  {
   "cell_type": "markdown",
   "metadata": {},
   "source": [
    "<b> s.connect()</b> -- This method actively initiates TCP server Connection."
   ]
  },
  {
   "cell_type": "markdown",
   "metadata": {},
   "source": [
    "###    <font color=\"red\"> General Socket Methods"
   ]
  },
  {
   "cell_type": "markdown",
   "metadata": {},
   "source": [
    "<b> s.recv()</b> -- This method recieves TCP message."
   ]
  },
  {
   "cell_type": "markdown",
   "metadata": {},
   "source": [
    "<b> s.send()</b> -- This method transmits TCP message."
   ]
  },
  {
   "cell_type": "markdown",
   "metadata": {},
   "source": [
    "<b> s.recvfrom()</b> -- This method recieves UDP message."
   ]
  },
  {
   "cell_type": "markdown",
   "metadata": {},
   "source": [
    "<b> s.sendto()</b> -- This method transmits UDP message."
   ]
  },
  {
   "cell_type": "markdown",
   "metadata": {},
   "source": [
    "<b> s.close()</b> -- This method closes socket"
   ]
  },
  {
   "cell_type": "markdown",
   "metadata": {},
   "source": [
    "<b> socket.gethostname()</b> -- Returns the hostname"
   ]
  },
  {
   "cell_type": "markdown",
   "metadata": {},
   "source": [
    "###    <font color=\"red\"> Socket Module"
   ]
  },
  {
   "cell_type": "code",
   "execution_count": 35,
   "metadata": {},
   "outputs": [
    {
     "name": "stdout",
     "output_type": "stream",
     "text": [
      "<socket.socket fd=1348, family=AddressFamily.AF_INET, type=SocketKind.SOCK_STREAM, proto=0>\n"
     ]
    }
   ],
   "source": [
    "import socket\n",
    "s = socket.socket(socket.AF_INET, socket.SOCK_STREAM)\n",
    "print(s)"
   ]
  },
  {
   "cell_type": "markdown",
   "metadata": {},
   "source": [
    "###    <font color=\"red\"> Hostname and IP address"
   ]
  },
  {
   "cell_type": "code",
   "execution_count": 41,
   "metadata": {},
   "outputs": [
    {
     "name": "stdout",
     "output_type": "stream",
     "text": [
      "LAPTOP-NDBQ8MLK\n",
      "172.217.5.100\n"
     ]
    }
   ],
   "source": [
    "import socket \n",
    "host = socket.gethostname()\n",
    "print(host)\n",
    "ip = socket.gethostbyname('www.google.com')\n",
    "print(ip)"
   ]
  },
  {
   "cell_type": "markdown",
   "metadata": {},
   "source": [
    "###    <font color=\"red\"> Python Internet Modules"
   ]
  },
  {
   "cell_type": "code",
   "execution_count": null,
   "metadata": {},
   "outputs": [],
   "source": [
    "import Image\n",
    "myImage = Image.open(\"Downloads/pic1\");\n",
    "myImage.show();"
   ]
  },
  {
   "cell_type": "code",
   "execution_count": null,
   "metadata": {},
   "outputs": [],
   "source": []
  }
 ],
 "metadata": {
  "kernelspec": {
   "display_name": "Python 3",
   "language": "python",
   "name": "python3"
  },
  "language_info": {
   "codemirror_mode": {
    "name": "ipython",
    "version": 3
   },
   "file_extension": ".py",
   "mimetype": "text/x-python",
   "name": "python",
   "nbconvert_exporter": "python",
   "pygments_lexer": "ipython3",
   "version": "3.6.5"
  }
 },
 "nbformat": 4,
 "nbformat_minor": 2
}
