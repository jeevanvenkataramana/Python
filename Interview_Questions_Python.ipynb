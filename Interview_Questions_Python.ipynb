{
 "cells": [
  {
   "cell_type": "markdown",
   "metadata": {},
   "source": [
    "### MaxDifference in Array"
   ]
  },
  {
   "cell_type": "code",
   "execution_count": 3,
   "metadata": {},
   "outputs": [],
   "source": [
    "# Difference between an element and a minimum of lower index item\n",
    "\n",
    "def maxDifference(a):\n",
    "    max_diff=0\n",
    "    min_element=a[0]\n",
    "    \n",
    "    for i in range(1,len(a)):\n",
    "        if(a[i]-min_element>max_diff):\n",
    "            max_diff=a[i]-min_element\n",
    "        if(a[i]<min_element):\n",
    "            min_element=a[i]\n",
    "    \n",
    "    if(max_diff==0):\n",
    "        return(-1)\n",
    "    return(max_diff)        "
   ]
  },
  {
   "cell_type": "markdown",
   "metadata": {},
   "source": [
    "### Minmum Unique Array Sum"
   ]
  },
  {
   "cell_type": "code",
   "execution_count": 12,
   "metadata": {},
   "outputs": [
    {
     "name": "stdout",
     "output_type": "stream",
     "text": [
      "Expected: 15 Got:  15\n"
     ]
    }
   ],
   "source": [
    "def minUniqueArraySum(arr):\n",
    "    Tsum=0\n",
    "    for i in range(0,len(arr)):\n",
    "        while(arr.count(arr[i])>1):\n",
    "            arr[i]=arr[i]+1\n",
    "        Tsum=Tsum+arr[i]\n",
    "    return(Tsum)\n",
    "\n",
    "# or\n",
    "def minUniqueArraySum1(arr):\n",
    "    arr.sort()\n",
    "    Tsum=arr[0]\n",
    "    for i in range(1,len(arr)):\n",
    "        if(arr[i]==arr[i-1]):\n",
    "            arr[i]=arr[i]+1\n",
    "        if(arr[i]<arr[i-1]):\n",
    "            arr[i]=arr[i-1]+1\n",
    "        Tsum=Tsum+arr[i]\n",
    "    return(Tsum)\n",
    "\n",
    "print(\"Expected: 15 Got: \",minUniqueArraySum1([1,2,1,1,1]))"
   ]
  },
  {
   "cell_type": "markdown",
   "metadata": {},
   "source": [
    "### Subarray Sum"
   ]
  },
  {
   "cell_type": "code",
   "execution_count": 23,
   "metadata": {},
   "outputs": [
    {
     "name": "stdout",
     "output_type": "stream",
     "text": [
      "Expected: 50 Got:  50\n"
     ]
    }
   ],
   "source": [
    "# Given an array [4,5,6] calculate total sum of \n",
    "#         [4][5][6] + [4,5][5,6] + [4,5,6]\n",
    "\n",
    "def subArraySum(arr):\n",
    "    Tsum=0\n",
    "    n=len(arr)\n",
    "    for i in range(0,len(arr)):\n",
    "        Tsum=Tsum+(arr[i]*(i+1)*(n-i))\n",
    "    return(Tsum)\n",
    "\n",
    "print(\"Expected: 50 Got: \",subArraySum([4,5,6]))"
   ]
  },
  {
   "cell_type": "markdown",
   "metadata": {},
   "source": [
    "### Distinct Pairs"
   ]
  },
  {
   "cell_type": "code",
   "execution_count": 24,
   "metadata": {},
   "outputs": [
    {
     "name": "stdout",
     "output_type": "stream",
     "text": [
      " Result:  [(1, 9), (2, 8), (3, 7), (5, 5)]\n"
     ]
    }
   ],
   "source": [
    "# Given an array and a target value. \n",
    "# Find the count of all distict pairs with sum = target value\n",
    "\n",
    "def distinctPair(arr, value):\n",
    "    pairs = list()\n",
    "    for i in range(0,len(arr)):\n",
    "        temp=value-arr[i]\n",
    "        if (temp in arr[:i]) or ((i!=len(arr)) and temp in arr[i+1:]):\n",
    "            add_t=(arr[i],temp)\n",
    "        if(arr[i]+arr[i]==value):\n",
    "            add_t=(arr[i],arr[i])\n",
    "        if not ((add_t in pairs) or ((add_t[1],add_t[0]) in pairs)):\n",
    "            pairs.append(add_t)\n",
    "    return(pairs)\n",
    "            \n",
    "            \n",
    "            \n",
    "print(\" Result: \",distinctPair([1,2,3,5,6,7,8,9,1],10))\n",
    "\n",
    "#(5,5) can be removed by removing the condition in step 9"
   ]
  },
  {
   "cell_type": "markdown",
   "metadata": {},
   "source": [
    "### Segregate array"
   ]
  },
  {
   "cell_type": "code",
   "execution_count": 25,
   "metadata": {},
   "outputs": [
    {
     "name": "stdout",
     "output_type": "stream",
     "text": [
      "4\n",
      "[0, 0, 0, 0, 0, 8, 1, -1, 10]\n",
      "None\n"
     ]
    }
   ],
   "source": [
    "# sort array in a way all zero in the beginning \n",
    "# and non zero nos in the end\n",
    "\n",
    "def seg_array(nums):\n",
    "    mid=len(nums)//2\n",
    "    print(mid)\n",
    "    for i in range(0,len(nums)):\n",
    "        if(nums[i]!=0):\n",
    "            while(nums[mid]!=0 and mid<len(nums)-1):\n",
    "                mid=mid+1\n",
    "            temp=nums[i]\n",
    "            nums[i]=nums[mid]\n",
    "            nums[mid]=temp\n",
    "    print(nums)\n",
    "\n",
    "nums=[1,0,-1,10,8,0,0,0,0]    # doesnt sort if more zeros than half the length\n",
    "print(seg_array(nums))"
   ]
  },
  {
   "cell_type": "markdown",
   "metadata": {},
   "source": [
    "### Balanced Brackets"
   ]
  },
  {
   "cell_type": "code",
   "execution_count": 16,
   "metadata": {},
   "outputs": [
    {
     "name": "stdout",
     "output_type": "stream",
     "text": [
      "Balanced\n"
     ]
    }
   ],
   "source": [
    "def isValid(s: str) -> bool:\n",
    "        brackets=['{}','()','[]']\n",
    "        while any(x in s for x in brackets):\n",
    "            for br in brackets:\n",
    "                s=s.replace(br,'')\n",
    "        return not s\n",
    "s='{{[]}()}'\n",
    "print(\"Balanced\" if(isValid(s)) else \"Unbalanced\") "
   ]
  },
  {
   "cell_type": "markdown",
   "metadata": {},
   "source": [
    "### Remove duplicates from the linked list"
   ]
  },
  {
   "cell_type": "code",
   "execution_count": 26,
   "metadata": {},
   "outputs": [],
   "source": [
    "class ListNode:\n",
    "     def __init__(self, x):\n",
    "            self.val = x\n",
    "            self.next = None\n",
    "\n",
    "\n",
    "def deleteDuplicates(self, head: ListNode) -> ListNode:\n",
    "        cur = head\n",
    "        while(cur and cur.next):\n",
    "            if(cur.val==cur.next.val):\n",
    "                temp=cur.next\n",
    "                cur.next=cur.next.next\n",
    "                del temp\n",
    "                continue\n",
    "            cur=cur.next\n",
    "        return head    "
   ]
  },
  {
   "cell_type": "markdown",
   "metadata": {},
   "source": [
    "### ALL characters in a string"
   ]
  },
  {
   "cell_type": "code",
   "execution_count": 28,
   "metadata": {},
   "outputs": [
    {
     "name": "stdout",
     "output_type": "stream",
     "text": [
      "Letters in both a and b\n",
      "{'c', 'b', 'a', 'z', 'e', 'j', 'h', 'd'}\n",
      "Letters common in a and b\n",
      "{'a', 'b', 'd'}\n",
      "Letters in a not in b\n",
      "{'e', 'c'}\n",
      "Letters in b not in a\n",
      "{'h', 'j', 'z'}\n"
     ]
    }
   ],
   "source": [
    "a='ababacde'\n",
    "b='adhzhjbzj'\n",
    "print(\"Letters in both a and b\")\n",
    "print(set(a).union(set(b)))\n",
    "print(\"Letters common in a and b\")\n",
    "print(set(a).intersection(set(b)))\n",
    "print(\"Letters in a not in b\")\n",
    "print(set(a)-set(b))\n",
    "print(\"Letters in b not in a\")\n",
    "print(set(b)-set(a))"
   ]
  },
  {
   "cell_type": "markdown",
   "metadata": {},
   "source": [
    "### First unique character in a string"
   ]
  },
  {
   "cell_type": "code",
   "execution_count": 29,
   "metadata": {},
   "outputs": [],
   "source": [
    "def firstUniqChar(self, s):\n",
    "        unique_list=list()\n",
    "        temp=dict()\n",
    "        for i in range(0,len(s)):\n",
    "            if s[i] not in temp:\n",
    "                temp[s[i]]=1\n",
    "                unique_list.append(s[i])\n",
    "            elif temp[s[i]]==1:\n",
    "                temp[s[i]]+=1\n",
    "                unique_list.remove(s[i])\n",
    "        if(len(unique_list)>=1):\n",
    "            return(s.find(unique_list[0]))\n",
    "        else:\n",
    "            return -1\n",
    "        \n",
    "# unique list and a dictionary.\n",
    "# if  not present in dictionary add it to dictionary and unique list\n",
    "# if present and count =1 remove"
   ]
  },
  {
   "cell_type": "markdown",
   "metadata": {},
   "source": [
    "### Basic Caluclator"
   ]
  },
  {
   "cell_type": "code",
   "execution_count": 30,
   "metadata": {},
   "outputs": [],
   "source": [
    "def calculate(self, s):\n",
    "    stack = []\n",
    "    num = 0\n",
    "    sign = \"+\"\n",
    "        \n",
    "    for i, c in enumerate(s):\n",
    "        if c.isdigit():\n",
    "            num = 10 * num + int(c)\n",
    "                \n",
    "        if c in [\"+\", \"-\", \"*\", \"/\"] or i == len(s)-1:\n",
    "            if sign == \"+\":\n",
    "                stack.append(num)\n",
    "            elif sign == \"-\":\n",
    "                stack.append(-num)\n",
    "            elif sign == \"*\":\n",
    "                val = stack.pop()\n",
    "                stack.append(val * num)\n",
    "            elif sign == \"/\":\n",
    "                val = stack.pop()\n",
    "                stack.append(int(val / num))\n",
    "            num = 0\n",
    "            sign = c\n",
    "    return sum(stack)\n"
   ]
  },
  {
   "cell_type": "code",
   "execution_count": null,
   "metadata": {},
   "outputs": [],
   "source": []
  },
  {
   "cell_type": "code",
   "execution_count": null,
   "metadata": {},
   "outputs": [],
   "source": []
  },
  {
   "cell_type": "code",
   "execution_count": null,
   "metadata": {},
   "outputs": [],
   "source": []
  },
  {
   "cell_type": "code",
   "execution_count": null,
   "metadata": {},
   "outputs": [],
   "source": []
  },
  {
   "cell_type": "code",
   "execution_count": null,
   "metadata": {},
   "outputs": [],
   "source": []
  },
  {
   "cell_type": "markdown",
   "metadata": {},
   "source": [
    "# Linked List Operations"
   ]
  },
  {
   "cell_type": "markdown",
   "metadata": {},
   "source": [
    "### Default Class"
   ]
  },
  {
   "cell_type": "code",
   "execution_count": 31,
   "metadata": {},
   "outputs": [],
   "source": [
    "class ListNode:\n",
    "     def __init__(self, x):\n",
    "            self.val = x\n",
    "            self.next = None"
   ]
  },
  {
   "cell_type": "markdown",
   "metadata": {},
   "source": [
    "### Reverse a singly linked list"
   ]
  },
  {
   "cell_type": "code",
   "execution_count": 32,
   "metadata": {},
   "outputs": [],
   "source": [
    "def reverseList(self, head: ListNode) -> ListNode:\n",
    "    prev=None\n",
    "    current=None\n",
    "    nextp=None\n",
    "        \n",
    "    current=head\n",
    "    while(current):\n",
    "        nextp=current.next\n",
    "        current.next=prev\n",
    "        prev=current\n",
    "        current=nextp\n",
    "    return prev"
   ]
  },
  {
   "cell_type": "markdown",
   "metadata": {},
   "source": [
    "### Merge Sorted Linked List"
   ]
  },
  {
   "cell_type": "code",
   "execution_count": 33,
   "metadata": {},
   "outputs": [],
   "source": [
    "def merge_sorted(l1,l2):\n",
    "    head=tail=ListNode()\n",
    "    \n",
    "    while l1 and l2:\n",
    "        if(l1.val < l2.val):\n",
    "            tail.next,l1=l1,l1.next\n",
    "        else:\n",
    "            tail.next,l2=l2,l2.next\n",
    "    \n",
    "    tail.next = l1 or l2\n",
    "    return head.next"
   ]
  },
  {
   "cell_type": "markdown",
   "metadata": {},
   "source": [
    "### Has Cycle"
   ]
  },
  {
   "cell_type": "code",
   "execution_count": 34,
   "metadata": {},
   "outputs": [],
   "source": [
    "def detectCycle(self, head):\n",
    "    slow=head\n",
    "    fast=head\n",
    "    \n",
    "    while fast and fast.next and fast.next.next:\n",
    "        slow,fast=slow.next,fast.next.next\n",
    "        if(slow==fast):\n",
    "            slow=head\n",
    "            while slow is not fast:\n",
    "                slow,fast=slow.next,fast.next\n",
    "            return slow\n",
    "    return None"
   ]
  },
  {
   "cell_type": "markdown",
   "metadata": {},
   "source": [
    "### Intersection of two list"
   ]
  },
  {
   "cell_type": "code",
   "execution_count": 35,
   "metadata": {},
   "outputs": [],
   "source": [
    "def getIntersectionNode(self, headA, headB):\n",
    "    def length(L):\n",
    "        count=0\n",
    "        while L:\n",
    "            L=L.next\n",
    "            count=count+1\n",
    "        return count\n",
    "        \n",
    "    alen,blen=length(headA),length(headB)\n",
    "    if alen>blen:\n",
    "        headB,headA=headA,headB\n",
    "    for _ in range(abs(alen-blen)):\n",
    "        headB=headB.next\n",
    "            \n",
    "    while headA and headB and headA is not headB:\n",
    "        headA,headB=headA.next,headB.next\n",
    "        \n",
    "    return headA\n",
    "\n",
    "# calculate len of two lists, make 2nd list as the list of higher length.\n",
    "# next forward 2nd list till the abs difference between 2 lists.\n",
    "# after that whenever list is not list2 next forward"
   ]
  },
  {
   "cell_type": "markdown",
   "metadata": {},
   "source": [
    "### Remove Duplicates"
   ]
  },
  {
   "cell_type": "code",
   "execution_count": 36,
   "metadata": {},
   "outputs": [],
   "source": [
    "def deleteDuplicates(self, head):\n",
    "    temp=head\n",
    "    while head and head.next:\n",
    "        if head.val == head.next.val :\n",
    "            head.next=head.next.next\n",
    "            continue\n",
    "        head=head.next\n",
    "    return temp    "
   ]
  },
  {
   "cell_type": "markdown",
   "metadata": {},
   "source": [
    "### Remove Nth Node from End"
   ]
  },
  {
   "cell_type": "code",
   "execution_count": 37,
   "metadata": {},
   "outputs": [],
   "source": [
    "def removeNthFromEnd(self, head: ListNode, n: int):\n",
    "        temp=ListNode(0)\n",
    "        temp1=head\n",
    "        temp.next=head\n",
    "        head=temp\n",
    "        \n",
    "        while(n!=0):\n",
    "            temp1=temp1.next\n",
    "            n=n-1\n",
    "        while(temp1):\n",
    "            temp1=temp1.next\n",
    "            temp=temp.next\n",
    "        temp.next=temp.next.next\n",
    "        return head.next\n",
    "\n",
    "# 2 pointers 1 to the head and other move until n becomes 0\n",
    "# move 2 pointers at the same time until the fast \n",
    "# moving pointer becomes none"
   ]
  },
  {
   "cell_type": "markdown",
   "metadata": {},
   "source": [
    "### LinkedList Palindrome"
   ]
  },
  {
   "cell_type": "code",
   "execution_count": 39,
   "metadata": {},
   "outputs": [],
   "source": [
    "def isPalindrome(head) -> bool:\n",
    "    def reverse_link(head):\n",
    "        prev=None\n",
    "        current=head\n",
    "        nextp=None\n",
    "        while(current):\n",
    "            nextp=current.next\n",
    "            current.next=prev\n",
    "            prev=current\n",
    "            current=nextp\n",
    "        return prev\n",
    "    \n",
    "    temp=list()\n",
    "    slow=head\n",
    "    fast=head\n",
    "    while fast and fast.next:\n",
    "        slow,fast=slow.next,fast.next.next\n",
    "        \n",
    "    slow,fast=head,reverse_link(slow)\n",
    "        \n",
    "    while slow and fast:\n",
    "        if slow.val!=fast.val:\n",
    "            return False\n",
    "        slow,fast=slow.next,fast.next\n",
    "    return True\n",
    "    \n",
    "# move slow pointer and fast pointer until fast.next is null\n",
    "# two lists one to head and one to reverse from half point"
   ]
  },
  {
   "cell_type": "code",
   "execution_count": null,
   "metadata": {},
   "outputs": [],
   "source": []
  },
  {
   "cell_type": "code",
   "execution_count": null,
   "metadata": {},
   "outputs": [],
   "source": []
  }
 ],
 "metadata": {
  "kernelspec": {
   "display_name": "Python 3",
   "language": "python",
   "name": "python3"
  },
  "language_info": {
   "codemirror_mode": {
    "name": "ipython",
    "version": 3
   },
   "file_extension": ".py",
   "mimetype": "text/x-python",
   "name": "python",
   "nbconvert_exporter": "python",
   "pygments_lexer": "ipython3",
   "version": "3.7.1"
  }
 },
 "nbformat": 4,
 "nbformat_minor": 2
}
